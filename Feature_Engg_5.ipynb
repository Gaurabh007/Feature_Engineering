{
 "cells": [
  {
   "cell_type": "markdown",
   "id": "4d76f96e-fc3a-4b2f-8634-15099369e068",
   "metadata": {},
   "source": [
    "## 5 Number Summary and Box Plot:\n",
    " 1.) Minimum: The Lowest value from the dataset <br>\n",
    " 2.) Quartile 1: 25% values from the dataset <br>\n",
    " 3.) Median: Mid value of the dataset <br>\n",
    " 4.) Quartile 3: 75% values from the dataset <br>\n",
    " 5.) Maximum: The highest value form the dataset <br>"
   ]
  },
  {
   "cell_type": "code",
   "execution_count": 12,
   "id": "ab9d64a0-edb0-461c-900e-e6c762e71179",
   "metadata": {},
   "outputs": [],
   "source": [
    "import numpy as np\n",
    "import seaborn as sns"
   ]
  },
  {
   "cell_type": "code",
   "execution_count": 55,
   "id": "ea2a0494-8da1-4fd5-abba-ae0b9222a0f4",
   "metadata": {},
   "outputs": [],
   "source": [
    "lst_weights = [12, 13, 35, 45, 46, 48, 54, 55, 65, 66, 68, 69, 71, 73, 78, 78, 84, 95, 97]\n",
    "minimum,Q1,median,Q3,maximum = np.quantile(lst_weights,[0,0.25,0.50,0.75,1.0]) #calculating all the 5 number summary"
   ]
  },
  {
   "cell_type": "code",
   "execution_count": 56,
   "id": "1d25e6c6-545c-410b-9d14-077777f3916c",
   "metadata": {},
   "outputs": [
    {
     "data": {
      "text/plain": [
       "(12.0, 47.0, 66.0, 75.5, 97.0)"
      ]
     },
     "execution_count": 56,
     "metadata": {},
     "output_type": "execute_result"
    }
   ],
   "source": [
    "minimum,Q1,median,Q3,maximum  #5 Number Summary"
   ]
  },
  {
   "cell_type": "code",
   "execution_count": 54,
   "id": "4278e8bc-74df-4cdc-9f3c-47ede65d0401",
   "metadata": {},
   "outputs": [
    {
     "data": {
      "text/plain": [
       "28.5"
      ]
     },
     "execution_count": 54,
     "metadata": {},
     "output_type": "execute_result"
    }
   ],
   "source": [
    "IQR = Q3 - Q1             #Inter-Quartile-Range\n",
    "IQR"
   ]
  },
  {
   "cell_type": "code",
   "execution_count": 52,
   "id": "3fc2f66d-be23-43ec-ac86-d2d97fa0c0f2",
   "metadata": {},
   "outputs": [],
   "source": [
    "# Calulating the boundary for outliers\n",
    "lower_fence = Q1 - 1.5 * (IQR)\n",
    "higher_fence = Q3  + 1.5 * (IQR)"
   ]
  },
  {
   "cell_type": "code",
   "execution_count": 53,
   "id": "b6ca6877-3801-4e6a-ad49-b078534b5e58",
   "metadata": {},
   "outputs": [
    {
     "data": {
      "text/plain": [
       "(4.25, 118.25)"
      ]
     },
     "execution_count": 53,
     "metadata": {},
     "output_type": "execute_result"
    }
   ],
   "source": [
    "lower_fence,higher_fence"
   ]
  },
  {
   "cell_type": "code",
   "execution_count": 30,
   "id": "74828265-15f7-4d50-b21e-bc7cd774c4c1",
   "metadata": {},
   "outputs": [
    {
     "data": {
      "text/plain": [
       "<AxesSubplot: >"
      ]
     },
     "execution_count": 30,
     "metadata": {},
     "output_type": "execute_result"
    },
    {
     "data": {
      "image/png": "[encoded data removed]",
      "text/plain": [
       "<Figure size 640x480 with 1 Axes>"
      ]
     },
     "metadata": {},
     "output_type": "display_data"
    }
   ],
   "source": [
    "# Visualization using boxplot.\n",
    "sns.boxplot(lst_weights)"
   ]
  },
  {
   "cell_type": "code",
   "execution_count": 31,
   "id": "344e7a35-402f-488b-afa0-e84b5c84181a",
   "metadata": {},
   "outputs": [],
   "source": [
    "# Now as the dataset does'nt have any outlier so in boxplot we can't see any outliers. \n",
    "# In order to see the outliers I took a new dataset with outliers."
   ]
  },
  {
   "cell_type": "code",
   "execution_count": 32,
   "id": "ce44f7de-632f-4afa-9692-38534ab809f6",
   "metadata": {},
   "outputs": [],
   "source": [
    "lst_weights_1 = [-10,-35,45,65,97,84,13,54,55,68,48,69,78,78,12,35,66,73,71,95,46,130,186]"
   ]
  },
  {
   "cell_type": "code",
   "execution_count": 33,
   "id": "5031210e-67f8-433b-9803-0d11adced3bd",
   "metadata": {},
   "outputs": [
    {
     "data": {
      "text/plain": [
       "<AxesSubplot: >"
      ]
     },
     "execution_count": 33,
     "metadata": {},
     "output_type": "execute_result"
    },
    {
     "data": {
      "image/png": "[encoded data removed]",
      "text/plain": [
       "<Figure size 640x480 with 1 Axes>"
      ]
     },
     "metadata": {},
     "output_type": "display_data"
    }
   ],
   "source": [
    "sns.boxplot(lst_weights_1)\n",
    "# The points denotes the Outliers"
   ]
  },
  {
   "cell_type": "code",
   "execution_count": 43,
   "id": "cfba8469-4251-49c5-b48a-fa04731c9799",
   "metadata": {},
   "outputs": [
    {
     "data": {
      "text/plain": [
       "19"
      ]
     },
     "execution_count": 43,
     "metadata": {},
     "output_type": "execute_result"
    }
   ],
   "source": [
    "len(lst_weights)"
   ]
  },
  {
   "cell_type": "code",
   "execution_count": 41,
   "id": "a1c0c364-4db3-4494-811e-edd1efa28dcf",
   "metadata": {},
   "outputs": [
    {
     "data": {
      "text/plain": [
       "[12, 13, 35, 45, 46, 48, 54, 55, 65, 66, 68, 69, 71, 73, 78, 78, 84, 95, 97]"
      ]
     },
     "execution_count": 41,
     "metadata": {},
     "output_type": "execute_result"
    }
   ],
   "source": [
    "lst_weights"
   ]
  },
  {
   "cell_type": "code",
   "execution_count": null,
   "id": "4c5597fb-7d41-41cb-9cc9-b2b441900bcf",
   "metadata": {},
   "outputs": [],
   "source": []
  },
  {
   "cell_type": "code",
   "execution_count": null,
   "id": "0fa20697-a6ad-4b6f-ad69-29c1a31fb85c",
   "metadata": {},
   "outputs": [],
   "source": []
  },
  {
   "cell_type": "code",
   "execution_count": null,
   "id": "04b3f88c-df27-4c02-a531-fc8a26ff7485",
   "metadata": {},
   "outputs": [],
   "source": []
  },
  {
   "cell_type": "code",
   "execution_count": null,
   "id": "77433666-0d72-4aaa-bf26-3fcd9e28a13b",
   "metadata": {},
   "outputs": [],
   "source": []
  },
  {
   "cell_type": "code",
   "execution_count": null,
   "id": "e5d2943f-40a7-451b-9535-61a9f4044b8d",
   "metadata": {},
   "outputs": [],
   "source": []
  },
  {
   "cell_type": "code",
   "execution_count": null,
   "id": "9da8b537-a643-49cb-b176-16fbba81d061",
   "metadata": {},
   "outputs": [],
   "source": []
  }
 ],
 "metadata": {
  "kernelspec": {
   "display_name": "Python 3 (ipykernel)",
   "language": "python",
   "name": "python3"
  },
  "language_info": {
   "codemirror_mode": {
    "name": "ipython",
    "version": 3
   },
   "file_extension": ".py",
   "mimetype": "text/x-python",
   "name": "python",
   "nbconvert_exporter": "python",
   "pygments_lexer": "ipython3",
   "version": "3.10.8"
  }
 },
 "nbformat": 4,
 "nbformat_minor": 5
}
